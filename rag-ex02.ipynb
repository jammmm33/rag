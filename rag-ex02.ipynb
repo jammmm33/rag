{
 "cells": [
  {
   "cell_type": "code",
   "execution_count": null,
   "id": "b893b2f8",
   "metadata": {},
   "outputs": [
    {
     "name": "stdout",
     "output_type": "stream",
     "text": [
      "Note: you may need to restart the kernel to use updated packages.\n"
     ]
    },
    {
     "name": "stderr",
     "output_type": "stream",
     "text": [
      "\n",
      "Usage:   \n",
      "  c:\\Users\\1\\miniconda3\\envs\\project\\python.exe -m pip install [options] <requirement specifier> [package-index-options] ...\n",
      "  c:\\Users\\1\\miniconda3\\envs\\project\\python.exe -m pip install [options] -r <requirements file> [package-index-options] ...\n",
      "  c:\\Users\\1\\miniconda3\\envs\\project\\python.exe -m pip install [options] [-e] <vcs project url> ...\n",
      "  c:\\Users\\1\\miniconda3\\envs\\project\\python.exe -m pip install [options] [-e] <local project path> ...\n",
      "  c:\\Users\\1\\miniconda3\\envs\\project\\python.exe -m pip install [options] <archive url/path> ...\n",
      "\n",
      "no such option: --upgrage\n"
     ]
    }
   ],
   "source": [
    "## 패키지/라이브러리 설치\n",
    "# %pip install -Uq docx2txt langchain_community langchain-text-splitters langchain_chroma"
   ]
  },
  {
   "cell_type": "code",
   "execution_count": null,
   "id": "4ed903c5",
   "metadata": {},
   "outputs": [],
   "source": [
    "from dotenv import load_dotenv\n",
    "from langchain_chroma import Chroma\n",
    "from langchain_openai import ChatOpenAI, OpenAIEmbeddings\n",
    "from langchain_community.document_loaders import Docx2txtLoader\n",
    "from langchain_text_splitters import RecursiveCharacterTextSplitter\n",
    "\n",
    "\n",
    "# 1. 문서 내용 읽고, 분할 ===========================================================\n",
    "loader = Docx2txtLoader('law_1.docx')\n",
    "\n",
    "text_splitter = RecursiveCharacterTextSplitter(\n",
    "    chunk_size= 1500,\n",
    "    chunk_overlap= 200,\n",
    "    length_function= len,\n",
    "    is_separator_regex= False,\n",
    ")\n",
    "\n",
    "document_list = loader.load_and_split(text_splitter=text_splitter)\n",
    "\n",
    "## 2. 임베딩 -> 벡터 데이터베이스에 저장 =============================================\n",
    "## 2.1 환경변수 읽어오기\n",
    "load_dotenv()\n",
    "\n",
    "## 2.2 임베딩 모델 지정\n",
    "embedding = OpenAIEmbeddings(model=\"text-embedding-3-large\")\n",
    "\n",
    "## 2.3 벡터 데이터베이스에 저장\n",
    "## [방법 1] in memory\n",
    "# database = Chroma.from_documents(\n",
    "#     documents= document_list,\n",
    "#     embedding=embedding,\n",
    "# )\n"
   ]
  },
  {
   "cell_type": "code",
   "execution_count": null,
   "id": "ea34a74d",
   "metadata": {},
   "outputs": [
    {
     "data": {
      "text/plain": [
       "<langchain_chroma.vectorstores.Chroma at 0x22e2337f0d0>"
      ]
     },
     "execution_count": 7,
     "metadata": {},
     "output_type": "execute_result"
    }
   ],
   "source": [
    "\n",
    "## [방법 2] 로컬에 저장\n",
    "# database = Chroma.from_documents(\n",
    "#     documents=document_list,\n",
    "#     embedding=embedding,\n",
    "#     persist_directory='./chroma',\n",
    "#     collection_name='chroma-law',\n",
    "# )\n",
    "\n",
    "# database\n"
   ]
  },
  {
   "cell_type": "code",
   "execution_count": 4,
   "id": "1059a262",
   "metadata": {},
   "outputs": [
    {
     "data": {
      "text/plain": [
       "<langchain_chroma.vectorstores.Chroma at 0x1fdc86c4970>"
      ]
     },
     "execution_count": 4,
     "metadata": {},
     "output_type": "execute_result"
    }
   ],
   "source": [
    "## 로컬에 저장된 임베딩 데이터 가져오기\n",
    "\n",
    "database = Chroma(\n",
    "    collection_name = 'chroma-law',\n",
    "    persist_directory='./chroma',\n",
    "     embedding_function=embedding,\n",
    ")\n",
    "database"
   ]
  },
  {
   "cell_type": "code",
   "execution_count": 6,
   "id": "6369cd81",
   "metadata": {},
   "outputs": [
    {
     "data": {
      "text/plain": [
       "AIMessage(content='전세사기 피해자로 인정받기 위해서는 다음의 요건을 모두 갖추어야 합니다. 다만, 경매 또는 공매 절차가 완료된 임차인의 경우에는 1호 및 3호의 요건은 제외됩니다:\\n\\n1. 「주택임대차보호법」 제3조에 따라 주택의 인도와 주민등록을 완료하고, 같은 법 제3조의2제2항에 따라 임대차계약증서상의 확정일자를 갖출 것. 이는 임차권등기를 마친 경우 또는 전세권이 설정된 경우도 포함합니다.\\n\\n2. 임차인의 임차보증금이 5억 원 이하일 것. 다만, 임차보증금의 상한액은 전세사기피해지원위원회가 시ㆍ도별 여건 및 피해자의 여건 등을 고려하여 2억 원의 범위에서 상향 조정할 수 있습니다.\\n\\n3. 임대인의 파산 또는 회생절차 개시, 임차주택의 경매 또는 공매절차의 개시, 임차인의 집행권원 확보 등에 해당하여 2인 이상의 임차인에게 임차보증금반환채권의 변제를 받지 못하는 피해가 발생하였거나 발생할 것이 예상될 것.\\n\\n4. 임대인 등이 임차보증금을 반환할 능력이 없는 자에 대한 임차주택의 양도 또는 임차보증금을 반환할 능력 없이 다수의 주택을 취득ㆍ임대하는 등 임차보증금 반환채무를 이행하지 않을 의도가 있었다고 의심할 만한 상당한 이유가 있을 것.\\n\\n다만, 임차인이 보증금 반환을 위한 보증 또는 보험에 가입하였거나, 임차인의 보증금이 최우선변제가 가능한 경우, 또는 임차인이 대항력이나 우선변제권 행사를 통해 보증금을 회수할 수 있는 경우 등은 피해자로 인정되는 것에서 제외됩니다.', additional_kwargs={'refusal': None}, response_metadata={'token_usage': {'completion_tokens': 436, 'prompt_tokens': 3111, 'total_tokens': 3547, 'completion_tokens_details': {'accepted_prediction_tokens': 0, 'audio_tokens': 0, 'reasoning_tokens': 0, 'rejected_prediction_tokens': 0}, 'prompt_tokens_details': {'audio_tokens': 0, 'cached_tokens': 3072}}, 'model_name': 'gpt-4o-2024-08-06', 'system_fingerprint': 'fp_07871e2ad8', 'id': 'chatcmpl-BduNULcprhjFLBVTxBt9ht3QIqgOR', 'finish_reason': 'stop', 'logprobs': None}, id='run--04d90e12-0da7-45d0-9eb9-5df4293f438c-0', usage_metadata={'input_tokens': 3111, 'output_tokens': 436, 'total_tokens': 3547, 'input_token_details': {'audio': 0, 'cache_read': 3072}, 'output_token_details': {'audio': 0, 'reasoning': 0}})"
      ]
     },
     "execution_count": 6,
     "metadata": {},
     "output_type": "execute_result"
    }
   ],
   "source": [
    "# 3. 질문이 있으면, 벡터 데이터베이스에서 유사도 검색 ================================\n",
    "## 3.1 사용자 질문\n",
    "# query = '전세사기 피해자 금융지원에 대해 설명해주세요.'\n",
    "query = '전세사기 피해자로 인정받기 위한 조건은?'\n",
    "\n",
    "## 3.2 벡터 데이터베이스에서 유사도 검색\n",
    "retrieved_docs = database.similarity_search(query=query, k=3)\n",
    "\n",
    "# 4. 유사도 검색으로 가져온 문서를 LLM에 질문과 같이 전달 ============================\n",
    "## 4.1 프롬프트 작성\n",
    "prompt = '''\n",
    "[identity]\n",
    "-당신은 전세사기 피해 법률 전문가입니다.\n",
    "-[context]를 참고하여 사용자의 질문에 답변해주세요.\n",
    "\n",
    "[context]\n",
    "{retrieved_docs}\n",
    "\n",
    "Question: {query}\n",
    "'''\n",
    "## 4.2 프롬프트 변수에 값 설정\n",
    "formatted_prompt = prompt.format(retrieved_docs=retrieved_docs, query=query)\n",
    "\n",
    "## 4.3 LLM 모델 생성(ChatOpenAI 인스턴스 생성)\n",
    "llm = ChatOpenAI(model = 'gpt-4o',)\n",
    "\n",
    "## 4.4 LLM 모델에 질문과 검색된 문서를 보냄\n",
    "ai_message = llm.invoke(formatted_prompt)\n",
    "ai_message"
   ]
  }
 ],
 "metadata": {
  "kernelspec": {
   "display_name": "project",
   "language": "python",
   "name": "python3"
  },
  "language_info": {
   "codemirror_mode": {
    "name": "ipython",
    "version": 3
   },
   "file_extension": ".py",
   "mimetype": "text/x-python",
   "name": "python",
   "nbconvert_exporter": "python",
   "pygments_lexer": "ipython3",
   "version": "3.10.12"
  }
 },
 "nbformat": 4,
 "nbformat_minor": 5
}
