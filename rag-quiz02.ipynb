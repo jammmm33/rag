{
 "cells": [
  {
   "cell_type": "markdown",
   "id": "5b68abe0",
   "metadata": {},
   "source": [
    "## 파인콘 백터 DB 저장\n",
    "A × ( B / C )\n",
    "\n",
    "- **A**: 전세사기피해주택의 임대인이 체납한 고지 또는 신고 건별 국세 금액  \n",
    "- **B**: 전세사기피해주택의 가격  \n",
    "- **C**: 전세사기피해주택의 임대인이 보유한 모든 주택의 가격 합계액"
   ]
  },
  {
   "cell_type": "code",
   "execution_count": 10,
   "id": "bdde1997",
   "metadata": {},
   "outputs": [
    {
     "data": {
      "text/plain": [
       "True"
      ]
     },
     "execution_count": 10,
     "metadata": {},
     "output_type": "execute_result"
    }
   ],
   "source": [
    "import os\n",
    "from pinecone import Pinecone\n",
    "from langchain_pinecone import PineconeVectorStore\n",
    "from langchain.vectorstores import Pinecone\n",
    "from dotenv import load_dotenv\n",
    "\n",
    "from langchain_openai import ChatOpenAI, OpenAIEmbeddings\n",
    "from langchain_community.document_loaders import Docx2txtLoader\n",
    "from langchain_text_splitters import RecursiveCharacterTextSplitter\n",
    "\n",
    "load_dotenv()"
   ]
  },
  {
   "cell_type": "code",
   "execution_count": 11,
   "id": "fb1c91bb",
   "metadata": {},
   "outputs": [],
   "source": [
    "loader = Docx2txtLoader('law_2.docx')\n",
    "\n",
    "text_splitter = RecursiveCharacterTextSplitter(\n",
    "    chunk_size = 1500,\n",
    "    chunk_overlap = 200,\n",
    ")\n",
    "\n",
    "document_list = loader.load_and_split(text_splitter=text_splitter)"
   ]
  },
  {
   "cell_type": "code",
   "execution_count": 12,
   "id": "632d6815",
   "metadata": {},
   "outputs": [
    {
     "ename": "TypeError",
     "evalue": "Pinecone.__init__() got an unexpected keyword argument 'api_key'",
     "output_type": "error",
     "traceback": [
      "\u001b[1;31m---------------------------------------------------------------------------\u001b[0m",
      "\u001b[1;31mTypeError\u001b[0m                                 Traceback (most recent call last)",
      "Cell \u001b[1;32mIn[12], line 4\u001b[0m\n\u001b[0;32m      1\u001b[0m embedding \u001b[38;5;241m=\u001b[39m OpenAIEmbeddings(model \u001b[38;5;241m=\u001b[39m \u001b[38;5;124m'\u001b[39m\u001b[38;5;124mtext-embedding-3-large\u001b[39m\u001b[38;5;124m'\u001b[39m)\n\u001b[0;32m      3\u001b[0m api_key \u001b[38;5;241m=\u001b[39m os\u001b[38;5;241m.\u001b[39mgetenv(\u001b[38;5;124m'\u001b[39m\u001b[38;5;124mPINECONE_API_KEY\u001b[39m\u001b[38;5;124m'\u001b[39m)\n\u001b[1;32m----> 4\u001b[0m pc \u001b[38;5;241m=\u001b[39m \u001b[43mPinecone\u001b[49m\u001b[43m(\u001b[49m\u001b[43mapi_key\u001b[49m\u001b[38;5;241;43m=\u001b[39;49m\u001b[43mapi_key\u001b[49m\u001b[43m)\u001b[49m\n\u001b[0;32m      6\u001b[0m database \u001b[38;5;241m=\u001b[39m PineconeVectorStore\u001b[38;5;241m.\u001b[39mfrom_documents(\n\u001b[0;32m      7\u001b[0m     embedding\u001b[38;5;241m=\u001b[39membedding,\n\u001b[0;32m      8\u001b[0m     index_name \u001b[38;5;241m=\u001b[39m \u001b[38;5;124m'\u001b[39m\u001b[38;5;124mlaw-2\u001b[39m\u001b[38;5;124m'\u001b[39m,\n\u001b[0;32m      9\u001b[0m     documents\u001b[38;5;241m=\u001b[39m document_list,\n\u001b[0;32m     10\u001b[0m )\n",
      "File \u001b[1;32mc:\\Users\\1\\miniconda3\\envs\\project\\lib\\site-packages\\langchain_core\\_api\\deprecation.py:224\u001b[0m, in \u001b[0;36mdeprecated.<locals>.deprecate.<locals>.finalize.<locals>.warn_if_direct_instance\u001b[1;34m(self, *args, **kwargs)\u001b[0m\n\u001b[0;32m    222\u001b[0m     warned \u001b[38;5;241m=\u001b[39m \u001b[38;5;28;01mTrue\u001b[39;00m\n\u001b[0;32m    223\u001b[0m     emit_warning()\n\u001b[1;32m--> 224\u001b[0m \u001b[38;5;28;01mreturn\u001b[39;00m wrapped(\u001b[38;5;28mself\u001b[39m, \u001b[38;5;241m*\u001b[39margs, \u001b[38;5;241m*\u001b[39m\u001b[38;5;241m*\u001b[39mkwargs)\n",
      "\u001b[1;31mTypeError\u001b[0m: Pinecone.__init__() got an unexpected keyword argument 'api_key'"
     ]
    }
   ],
   "source": [
    "embedding = OpenAIEmbeddings(model = 'text-embedding-3-large')\n",
    "\n",
    "api_key = os.getenv('PINECONE_API_KEY')\n",
    "pc = Pinecone(api_key=api_key)\n",
    "\n",
    "database = PineconeVectorStore.from_documents(\n",
    "    embedding=embedding,\n",
    "    index_name = 'law-2',\n",
    "    documents= document_list,\n",
    ")\n"
   ]
  },
  {
   "cell_type": "code",
   "execution_count": null,
   "id": "d30300a8",
   "metadata": {},
   "outputs": [],
   "source": [
    "query = '전세사기 피해자 금융지원에 대해 설명해주세요.'\n",
    "\n",
    "retrieved_docs = database.similarity_search(query=query)\n",
    "\n",
    "prompt = '''\n",
    "[identity]\n",
    "-당신은 전세사기 피해 법률 전문가입니다.\n",
    "-[context]를 참고하여 사용자의 질문에 답변해주세요.\n",
    "\n",
    "[context]\n",
    "{retrieved_docs}\n",
    "\n",
    "Question: {query}\n",
    "'''"
   ]
  },
  {
   "cell_type": "code",
   "execution_count": null,
   "id": "de7048d9",
   "metadata": {},
   "outputs": [
    {
     "data": {
      "text/plain": [
       "AIMessage(content='전세사기피해자를 위한 금융지원은 주거안정과 신속한 회복을 목적으로 다양한 지원책으로 구성되어 있습니다. 전세사기 피해자 법령에 따르면, 금융지원의 주요 내용으로는 다음과 같은 것들이 포함될 수 있습니다:\\n\\n1. **금융지원 대상**: 전세사기 피해자로 인정되는 임차인은 금융 지원을 받을 자격이 있습니다. 이들은 법적 절차를 거쳐 전세사기 피해자로 확정된 후 해당 지원을 신청할 수 있습니다.\\n\\n2. **주택 매입 및 임대료 지원**: 전세사기 피해주택을 국가 또는 지방자치단체가 매입하여 피해자들에게 우선적으로 임대하거나, 임대료의 일정 부분을 감면하여 주거 안정을 도모합니다.\\n\\n3. **재정 지원을 통한 임대료 감면**: 공공임대주택에 거주하는 경우, 감면된 임대료를 재정으로 지원받을 수 있으며 이는 피해자의 부담을 줄이는 데 기여합니다.\\n\\n4. **우선 공급 및 재정 지원**: 공공주택사업자나 관련 기관이 피해주택을 매입하여 우선 공급할 경우, 그에 따른 재정 지원을 국가 또는 지방자치단체로부터 받을 수 있습니다.\\n\\n5. **법률 및 행정 지원**: 피해자들의 권리 회복과 관련된 법률 상담 및 행정 절차 지원도 중요한 부분입니다.\\n\\n이와 같은 금융 지원은 전세사기 피해자가 빠르게 안정된 생활로 복귀할 수 있도록 돕는 것을 목표로 합니다. 구체적인 신청 절차나 지원 범위 등은 국토교통부 및 관련 기관을 통해 확인하는 것이 좋습니다.', additional_kwargs={'refusal': None}, response_metadata={'token_usage': {'completion_tokens': 380, 'prompt_tokens': 3905, 'total_tokens': 4285, 'completion_tokens_details': {'accepted_prediction_tokens': 0, 'audio_tokens': 0, 'reasoning_tokens': 0, 'rejected_prediction_tokens': 0}, 'prompt_tokens_details': {'audio_tokens': 0, 'cached_tokens': 0}}, 'model_name': 'gpt-4o-2024-08-06', 'system_fingerprint': 'fp_07871e2ad8', 'id': 'chatcmpl-BewOCrKLyUHPjWcNrpbbjRgqEnaZl', 'finish_reason': 'stop', 'logprobs': None}, id='run--fc1d2bce-a5ff-4d1a-bb54-a0cbab817d32-0', usage_metadata={'input_tokens': 3905, 'output_tokens': 380, 'total_tokens': 4285, 'input_token_details': {'audio': 0, 'cache_read': 0}, 'output_token_details': {'audio': 0, 'reasoning': 0}})"
      ]
     },
     "execution_count": 6,
     "metadata": {},
     "output_type": "execute_result"
    }
   ],
   "source": [
    "formatted = prompt.format(retrieved_docs=retrieved_docs, query=query)\n",
    "\n",
    "llm = ChatOpenAI(model = 'gpt-4o')\n",
    "\n",
    "ai_message = llm.invoke(formatted)\n",
    "ai_message"
   ]
  }
 ],
 "metadata": {
  "kernelspec": {
   "display_name": "project",
   "language": "python",
   "name": "python3"
  },
  "language_info": {
   "codemirror_mode": {
    "name": "ipython",
    "version": 3
   },
   "file_extension": ".py",
   "mimetype": "text/x-python",
   "name": "python",
   "nbconvert_exporter": "python",
   "pygments_lexer": "ipython3",
   "version": "3.10.12"
  }
 },
 "nbformat": 4,
 "nbformat_minor": 5
}
