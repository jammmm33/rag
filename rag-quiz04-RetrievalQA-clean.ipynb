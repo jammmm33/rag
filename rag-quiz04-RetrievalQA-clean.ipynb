{
 "cells": [
  {
   "cell_type": "markdown",
   "id": "773ea66d",
   "metadata": {},
   "source": [
    "## law_1.docx, law_2.docx 두 개 파일 모두 읽기  \n",
    "- pinecone  store 저장\n",
    "    - index name: 임의 \n",
    "- RetrievalQA 구현 \n",
    "    - prompt: rlm/rag-prompt\n",
    "    - 질문: 전세사기 관련 질문"
   ]
  },
  {
   "cell_type": "code",
   "execution_count": 1,
   "id": "b14f9dc1",
   "metadata": {},
   "outputs": [
    {
     "name": "stderr",
     "output_type": "stream",
     "text": [
      "c:\\Users\\1\\miniconda3\\envs\\project\\lib\\site-packages\\tqdm\\auto.py:21: TqdmWarning: IProgress not found. Please update jupyter and ipywidgets. See https://ipywidgets.readthedocs.io/en/stable/user_install.html\n",
      "  from .autonotebook import tqdm as notebook_tqdm\n"
     ]
    },
    {
     "data": {
      "text/plain": [
       "'전세사기피해주택이란 전세사기피해자가 임차인인 임대차계약의 목적물인 주택을 의미합니다. 이는 주택임대차보호법에 따라 임대차가 끝난 후 임차권등기가 마친 주택도 포함됩니다. 이러한 주택은 전세사기로 인한 피해를 입은 임차인을 보호하기 위한 특별법에 의해 정의됩니다.'"
      ]
     },
     "execution_count": 1,
     "metadata": {},
     "output_type": "execute_result"
    }
   ],
   "source": [
    "import os\n",
    "\n",
    "from dotenv import load_dotenv\n",
    "from langchain import hub\n",
    "from langchain_core.output_parsers import StrOutputParser\n",
    "from langchain_core.runnables import RunnablePassthrough\n",
    "from langchain_openai import ChatOpenAI, OpenAIEmbeddings\n",
    "from langchain_pinecone import PineconeVectorStore\n",
    "from pinecone import Pinecone\n",
    "\n",
    "\n",
    "## 환경변수 읽어오기\n",
    "load_dotenv()\n",
    "PINECONE_API_KEY = os.getenv('PINECONE_API_KEY')\n",
    "LANGCHAIN_API_KEY = os.getenv('LANGCHAIN_API_KEY')\n",
    "\n",
    "## 임베딩 -> 벡터 스토어(데이터베이스)에 저장\n",
    "## 임베딩 모델 지정\n",
    "embedding = OpenAIEmbeddings(model=\"text-embedding-3-large\")\n",
    "\n",
    "pc = Pinecone(api_key=PINECONE_API_KEY)\n",
    "\n",
    "index_name = 'quiz04-law1-2'\n",
    "\n",
    "## 저장된 인덱스 가져오기\n",
    "# [방법 2]\n",
    "database = PineconeVectorStore.from_existing_index(\n",
    "    index_name= index_name,\n",
    "    embedding=embedding,\n",
    ")\n",
    "\n",
    "## RetrievaQA\n",
    "llm = ChatOpenAI(model='gpt-4o')\n",
    "prompt = hub.pull(\"rlm/rag-prompt\")\n",
    "\n",
    "def format_docs(docs):\n",
    "    return \"\\n\\n\".join(doc.page_content for doc in docs)\n",
    "\n",
    "qa_chain = (\n",
    "    {\n",
    "        \"context\": database.as_retriever() | format_docs,\n",
    "        \"question\": RunnablePassthrough(),\n",
    "    }\n",
    "    | prompt\n",
    "    | llm\n",
    "    | StrOutputParser()\n",
    ")\n",
    "\n",
    "qa_chain.invoke(\"전세사기피해주택이란 무엇인가요?\")\n",
    "# qa_chain.invoke(\"전세사기피해자 임대인을 알려주세요\")"
   ]
  }
 ],
 "metadata": {
  "kernelspec": {
   "display_name": "project",
   "language": "python",
   "name": "python3"
  },
  "language_info": {
   "codemirror_mode": {
    "name": "ipython",
    "version": 3
   },
   "file_extension": ".py",
   "mimetype": "text/x-python",
   "name": "python",
   "nbconvert_exporter": "python",
   "pygments_lexer": "ipython3",
   "version": "3.10.12"
  }
 },
 "nbformat": 4,
 "nbformat_minor": 5
}
