{
 "cells": [
  {
   "cell_type": "markdown",
   "id": "96b25c76",
   "metadata": {},
   "source": [
    "# [문제]\n",
    "- law_2.docx 파일을 읽고, Chroma 저장\n",
    "- LLM 질문 -> 답변\n",
    "- 전세사기피해에 관한 법률 질문만 받기\n",
    "- 이 외의 질문은 '답변을 할 수 없습니다.'"
   ]
  },
  {
   "cell_type": "code",
   "execution_count": null,
   "id": "c9e96f2e",
   "metadata": {},
   "outputs": [],
   "source": [
    "import os\n",
    "from dotenv import load_dotenv\n",
    "from pinecone import Pinecone\n",
    "from langchain_pinecone import PineconeVectorStore\n",
    "from langchain_openai import ChatOpenAI, OpenAIEmbeddings\n",
    "from langchain_community.document_loaders import Docx2txtLoader\n",
    "from langchain_text_splitters import RecursiveCharacterTextSplitter\n",
    "\n",
    "\n",
    "## 1. 문서 내용 읽고 분할\n",
    "loader = Docx2txtLoader('law_2.docx')\n",
    "\n",
    "text_splitter = RecursiveCharacterTextSplitter(\n",
    "    chunk_size = 1500,\n",
    "    chunk_overlap = 200,\n",
    "    length_function = len,\n",
    "    is_separator_regex= False,\n",
    ")\n",
    "\n",
    "document_list = loader.load_and_split(text_splitter=text_splitter)\n",
    "\n",
    "## 2. 임베딩 -> 벡터 데이터베이스에 저장\n",
    "## 2.1 환경변수 읽어오기\n",
    "load_dotenv()\n",
    "\n",
    "## 2.2 임베딩 모델 지정\n",
    "embedding = OpenAIEmbeddings(model = 'text-embedding-3-large')\n",
    "\n",
    "## 2.3 벡터 데이터베이스에 저장\n",
    "## [방법 1] in memory\n",
    "# database = Chroma.from_documents(\n",
    "#     documents=document_list,\n",
    "#     embedding=embedding,\n",
    "# )\n"
   ]
  },
  {
   "cell_type": "code",
   "execution_count": 7,
   "id": "ec70b714",
   "metadata": {},
   "outputs": [],
   "source": [
    "\n",
    "## [방법 2] Pinecone server\n",
    "api_key = os.getenv('PINECONE_API_KEY')\n",
    "pc = Pinecone(api_key=api_key)\n",
    "\n",
    "database = PineconeVectorStore.from_documents(\n",
    "    embedding=embedding,\n",
    "    index_name = 'law-3-index',\n",
    "    documents= document_list,\n",
    ")\n"
   ]
  },
  {
   "cell_type": "code",
   "execution_count": 6,
   "id": "673a69f1",
   "metadata": {},
   "outputs": [
    {
     "name": "stdout",
     "output_type": "stream",
     "text": [
      "전세사기 피해자의 임대인에 대한 국세의 계산은 시행령 제3조에 따라 다음과 같이 이루어집니다. 임대인의 국세는 상속세, 증여세, 종합부동산세일 경우 각각의 고지 또는 신고 건별로 계산된 금액 중 더 큰 금액으로 산정됩니다. 구체적인 계산은 다음과 같습니다:\n",
      "\n",
      "1. 상속세, 증여세 및 종합부동산세의 경우: \n",
      "   - 고지 또는 신고 건별로 각각 가목에 따라 계산한 금액과 \n",
      "   - 임대인이 체납한 고지 또는 신고 건별 국세 금액 중 과세 대상 재산에 부과된 국세 금액 중 큰 금액으로 결정됩니다.\n",
      "\n",
      "2. 상속세, 증여세 및 종합부동산세 외의 국세의 경우: \n",
      "   - 각 고지 또는 신고 건별로 가목에 따라 계산한 금액으로 산정됩니다.\n",
      "\n",
      "계산식에서 \"전세사기 피해주택의 임대인이 보유한 모든 주택의 가격 합계액\"은 임대인의 모든 주택의 시가표준액을 합산한 금액으로 하고, \"전세사기 피해주택의 가격\"은 해당 과세기준일의 시가표준액으로 하여 계산합니다.\n"
     ]
    }
   ],
   "source": [
    "\n",
    "## 3. 질문 -> 벡터 데이터베이스(vector store)에서 유사도 검색\n",
    "## 3.1 사용자 질문\n",
    "query = '전세사기 피해자 임대인의 국세계산은 어떻게 돼?'\n",
    "# query = '오늘 점심 메뉴 정해줘~'\n",
    "\n",
    "## 3.2 벡터 데이터베이스에서 유사도 검색\n",
    "retrieved_docs = database.similarity_search(query=query, k=2)\n",
    "\n",
    "## 3.3 문서 객체 -> 하나의 문자열\n",
    "context = '😎😎\\n'.join([doc.page_content for doc in retrieved_docs])\n",
    "\n",
    "## 4. 유사도 검색으로 가져온 문서를 LLM에 질문과 같이 전달\n",
    "## 4.1 프롬프트 작성\n",
    "prompt = ''' \n",
    "[identity]\n",
    "당신은 전세사기 피해 법률 전문가입니다.\n",
    "아래는 전세사기 피해자 지원에 관한 법령 내용입니다.\n",
    "\n",
    "- [context]를 참고하여 사용자의 질문에 답변하세요.\n",
    "- 전세사기피해 법률 이외의 질문에는 '답변을 할 수 없습니다.'로 답하세요.\n",
    "\n",
    "[context]\n",
    "{retrieved_docs}\n",
    "\n",
    "question: {query}\n",
    "'''\n",
    "## 4.2 프롬프트 변수에 값 설정\n",
    "formatted_prompt = prompt.format(\n",
    "    retrieved_docs = context, \n",
    "    query=query)\n",
    "\n",
    "## 4.3  LLM 모델 생성(hatOpenAI인스턴스 생성)\n",
    "llm = ChatOpenAI(model= 'gpt-4o')\n",
    "\n",
    "## 4.4 LLM 모델에 질문과 검색된 문서 보내기\n",
    "ai_message = llm.invoke(formatted_prompt)\n",
    "print(ai_message.content)"
   ]
  }
 ],
 "metadata": {
  "kernelspec": {
   "display_name": "project",
   "language": "python",
   "name": "python3"
  },
  "language_info": {
   "codemirror_mode": {
    "name": "ipython",
    "version": 3
   },
   "file_extension": ".py",
   "mimetype": "text/x-python",
   "name": "python",
   "nbconvert_exporter": "python",
   "pygments_lexer": "ipython3",
   "version": "3.10.12"
  }
 },
 "nbformat": 4,
 "nbformat_minor": 5
}
