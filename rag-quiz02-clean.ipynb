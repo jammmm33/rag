{
 "cells": [
  {
   "cell_type": "markdown",
   "id": "5b68abe0",
   "metadata": {},
   "source": [
    "## 파인콘 백터 DB 저장\n",
    "A × ( B / C )\n",
    "\n",
    "- **A**: 전세사기피해주택의 임대인이 체납한 고지 또는 신고 건별 국세 금액  \n",
    "- **B**: 전세사기피해주택의 가격  \n",
    "- **C**: 전세사기피해주택의 임대인이 보유한 모든 주택의 가격 합계액"
   ]
  },
  {
   "cell_type": "code",
   "execution_count": 10,
   "id": "bdde1997",
   "metadata": {},
   "outputs": [
    {
     "ename": "TypeError",
     "evalue": "Pinecone.__init__() got an unexpected keyword argument 'api_key'",
     "output_type": "error",
     "traceback": [
      "\u001b[1;31m---------------------------------------------------------------------------\u001b[0m",
      "\u001b[1;31mTypeError\u001b[0m                                 Traceback (most recent call last)",
      "Cell \u001b[1;32mIn[10], line 39\u001b[0m\n\u001b[0;32m     29\u001b[0m \u001b[38;5;66;03m## 2.3 벡터 데이터베이스에 저장\u001b[39;00m\n\u001b[0;32m     30\u001b[0m \u001b[38;5;66;03m## pinecone 저장\u001b[39;00m\n\u001b[0;32m     31\u001b[0m \u001b[38;5;66;03m# database = PineconeVectorStore.from_documents(\u001b[39;00m\n\u001b[1;32m   (...)\u001b[0m\n\u001b[0;32m     36\u001b[0m \n\u001b[0;32m     37\u001b[0m \u001b[38;5;66;03m## pinecone 불러오기\u001b[39;00m\n\u001b[0;32m     38\u001b[0m api_key \u001b[38;5;241m=\u001b[39m os\u001b[38;5;241m.\u001b[39mgetenv(\u001b[38;5;124m'\u001b[39m\u001b[38;5;124mPINECONE_API_KEY\u001b[39m\u001b[38;5;124m'\u001b[39m)\n\u001b[1;32m---> 39\u001b[0m pc \u001b[38;5;241m=\u001b[39m \u001b[43mPinecone\u001b[49m\u001b[43m(\u001b[49m\u001b[43mapi_key\u001b[49m\u001b[38;5;241;43m=\u001b[39;49m\u001b[43mapi_key\u001b[49m\u001b[43m)\u001b[49m\n\u001b[0;32m     41\u001b[0m database \u001b[38;5;241m=\u001b[39m PineconeVectorStore(\n\u001b[0;32m     42\u001b[0m     index\u001b[38;5;241m=\u001b[39mpc\u001b[38;5;241m.\u001b[39mIndex(\u001b[38;5;124m'\u001b[39m\u001b[38;5;124mlaw-2\u001b[39m\u001b[38;5;124m'\u001b[39m),\n\u001b[0;32m     43\u001b[0m     embedding\u001b[38;5;241m=\u001b[39membedding,\n\u001b[0;32m     44\u001b[0m )\n\u001b[0;32m     46\u001b[0m \u001b[38;5;66;03m## 3. 질문 -> 벡터 데이터베이스(vector store)에서 유사도 검색\u001b[39;00m\n\u001b[0;32m     47\u001b[0m \u001b[38;5;66;03m## 3.1 사용자 질문\u001b[39;00m\n",
      "File \u001b[1;32mc:\\Users\\1\\miniconda3\\envs\\project\\lib\\site-packages\\langchain_core\\_api\\deprecation.py:224\u001b[0m, in \u001b[0;36mdeprecated.<locals>.deprecate.<locals>.finalize.<locals>.warn_if_direct_instance\u001b[1;34m(self, *args, **kwargs)\u001b[0m\n\u001b[0;32m    222\u001b[0m     warned \u001b[38;5;241m=\u001b[39m \u001b[38;5;28;01mTrue\u001b[39;00m\n\u001b[0;32m    223\u001b[0m     emit_warning()\n\u001b[1;32m--> 224\u001b[0m \u001b[38;5;28;01mreturn\u001b[39;00m wrapped(\u001b[38;5;28mself\u001b[39m, \u001b[38;5;241m*\u001b[39margs, \u001b[38;5;241m*\u001b[39m\u001b[38;5;241m*\u001b[39mkwargs)\n",
      "\u001b[1;31mTypeError\u001b[0m: Pinecone.__init__() got an unexpected keyword argument 'api_key'"
     ]
    }
   ],
   "source": [
    "import os\n",
    "from pinecone import Pinecone\n",
    "from langchain_pinecone import PineconeVectorStore\n",
    "from langchain.vectorstores import Pinecone\n",
    "from dotenv import load_dotenv\n",
    "\n",
    "from langchain_openai import ChatOpenAI, OpenAIEmbeddings\n",
    "from langchain_community.document_loaders import Docx2txtLoader\n",
    "from langchain_text_splitters import RecursiveCharacterTextSplitter\n",
    "\n",
    "\n",
    "## 1. 문서 내용 읽고 분할\n",
    "loader = Docx2txtLoader('law_2.docx')\n",
    "\n",
    "text_splitter = RecursiveCharacterTextSplitter(\n",
    "    chunk_size = 1500,\n",
    "    chunk_overlap = 200,\n",
    ")\n",
    "\n",
    "document_list = loader.load_and_split(text_splitter=text_splitter)\n",
    "\n",
    "## 2. 임베딩 -> 벡터 데이터베이스에 저장\n",
    "## 2.1 환경변수 읽어오기\n",
    "load_dotenv()\n",
    "\n",
    "## 2.2 임베딩 모델 지정\n",
    "embedding = OpenAIEmbeddings(model = 'text-embedding-3-large')\n",
    "\n",
    "## 2.3 벡터 데이터베이스에 저장\n",
    "## pinecone 저장\n",
    "# database = PineconeVectorStore.from_documents(\n",
    "#     embedding=embedding,\n",
    "#     index_name = 'law-2',\n",
    "#     documents= document_list,\n",
    "# )\n",
    "\n",
    "## pinecone 불러오기\n",
    "api_key = os.getenv('PINECONE_API_KEY')\n",
    "pc = Pinecone(api_key=api_key)\n",
    "\n",
    "database = PineconeVectorStore(\n",
    "    index=pc.Index('law-2'),\n",
    "    embedding=embedding,\n",
    ")\n",
    "\n",
    "## 3. 질문 -> 벡터 데이터베이스(vector store)에서 유사도 검색\n",
    "## 3.1 사용자 질문\n",
    "query = '전세사기 피해자 금융지원에 대해 설명해주세요.'\n",
    "\n",
    "## 3.2 벡터 데이터베이스에서 유사도 검색\n",
    "retrieved_docs = database.similarity_search(query=query)\n",
    "\n",
    "## 4. 유사도 검색으로 가져온 문서를 LLM에 질문과 같이 전달\n",
    "## 4.1 프롬프트 작성\n",
    "prompt = '''\n",
    "[identity]\n",
    "-당신은 전세사기 피해 법률 전문가입니다.\n",
    "-[context]를 참고하여 사용자의 질문에 답변해주세요.\n",
    "\n",
    "[context]\n",
    "{retrieved_docs}\n",
    "\n",
    "Question: {query}\n",
    "'''\n",
    "\n",
    "## 4.2 프롬프트 변수에 값 설정\n",
    "formatted = prompt.format(retrieved_docs=retrieved_docs, query=query)\n",
    "\n",
    "## 4.3  LLM 모델 생성(hatOpenAI인스턴스 생성)\n",
    "llm = ChatOpenAI(model = 'gpt-4o')\n",
    "\n",
    "## 4.4 LLM 모델에 질문과 검색된 문서 보내기\n",
    "ai_message = llm.invoke(formatted)\n",
    "ai_message"
   ]
  }
 ],
 "metadata": {
  "kernelspec": {
   "display_name": "project",
   "language": "python",
   "name": "python3"
  },
  "language_info": {
   "codemirror_mode": {
    "name": "ipython",
    "version": 3
   },
   "file_extension": ".py",
   "mimetype": "text/x-python",
   "name": "python",
   "nbconvert_exporter": "python",
   "pygments_lexer": "ipython3",
   "version": "3.10.12"
  }
 },
 "nbformat": 4,
 "nbformat_minor": 5
}
